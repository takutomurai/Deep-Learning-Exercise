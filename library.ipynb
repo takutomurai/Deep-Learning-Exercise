{
 "cells": [
  {
   "cell_type": "code",
   "execution_count": 3,
   "id": "aa43ef35-2008-4075-a085-2f95674b9f58",
   "metadata": {},
   "outputs": [
    {
     "name": "stdout",
     "output_type": "stream",
     "text": [
      "IPython : 9.1.0\n",
      "IPython.core.release : 9.1.0\n",
      "IPython.external.pickleshare : 0.7.5\n",
      "_csv : 1.0\n",
      "_ctypes : 1.1.0\n",
      "_decimal : 1.70\n",
      "_pydev_bundle.fsnotify : 0.1.5\n",
      "_pydevd_frame_eval.vendored.bytecode : 0.13.0.dev\n",
      "argparse : 1.1\n",
      "colorama : 0.4.6\n",
      "comm : 0.2.1\n",
      "csv : 1.0\n",
      "ctypes : 1.1.0\n",
      "dateutil : 2.9.0.post0\n",
      "dateutil._version : 2.9.0.post0\n",
      "debugpy : 1.8.11\n",
      "debugpy.public_api : 1.8.11\n",
      "decimal : 1.70\n",
      "decorator : 5.1.1\n",
      "executing : 0.8.3\n",
      "executing.version : 0.8.3\n",
      "http.server : 0.6\n",
      "ipaddress : 1.0\n",
      "ipykernel : 6.29.5\n",
      "ipykernel._version : 6.29.5\n",
      "jedi : 0.19.2\n",
      "json : 2.0.9\n",
      "jupyter_client : 8.6.3\n",
      "jupyter_client._version : 8.6.3\n",
      "jupyter_core : 5.7.2\n",
      "jupyter_core.version : 5.7.2\n",
      "logging : 0.5.1.2\n",
      "packaging : 24.2\n",
      "parso : 0.8.4\n",
      "platform : 1.0.8\n",
      "platformdirs : 4.3.7\n",
      "platformdirs.version : 4.3.7\n",
      "prompt_toolkit : 3.0.43\n",
      "psutil : 5.9.0\n",
      "pure_eval : 0.2.2\n",
      "pure_eval.version : 0.2.2\n",
      "pydevd : 3.2.3\n",
      "pygments : 2.19.1\n",
      "re : 2.2.1\n",
      "six : 1.17.0\n",
      "socketserver : 0.4\n",
      "stack_data : 0.2.0\n",
      "stack_data.version : 0.2.0\n",
      "traitlets : 5.14.3\n",
      "traitlets._version : 5.14.3\n",
      "urllib.request : 3.11\n",
      "wcwidth : 0.2.5\n",
      "xmlrpc.client : 3.11\n",
      "zlib : 1.0\n",
      "zmq : 26.2.0\n",
      "zmq.sugar : 26.2.0\n",
      "zmq.sugar.version : 26.2.0\n"
     ]
    }
   ],
   "source": [
    "import sys\n",
    "\n",
    "modules_with_versions = {}\n",
    "\n",
    "for name, module in sys.modules.items():\n",
    "    if module is not None and hasattr(module, '__version__'):\n",
    "        try:\n",
    "            modules_with_versions[name] = module.__version__\n",
    "        except Exception:\n",
    "            pass  \n",
    "            \n",
    "for name in sorted(modules_with_versions):\n",
    "    print(f\"{name} : {modules_with_versions[name]}\")"
   ]
  }
 ],
 "metadata": {
  "kernelspec": {
   "display_name": "Python 3 (ipykernel)",
   "language": "python",
   "name": "python3"
  },
  "language_info": {
   "codemirror_mode": {
    "name": "ipython",
    "version": 3
   },
   "file_extension": ".py",
   "mimetype": "text/x-python",
   "name": "python",
   "nbconvert_exporter": "python",
   "pygments_lexer": "ipython3",
   "version": "3.11.11"
  }
 },
 "nbformat": 4,
 "nbformat_minor": 5
}
